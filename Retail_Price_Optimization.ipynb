{
  "nbformat": 4,
  "nbformat_minor": 0,
  "metadata": {
    "colab": {
      "provenance": [],
      "authorship_tag": "ABX9TyN485Hp5qd2Znr1EP3c0kCf",
      "include_colab_link": true
    },
    "kernelspec": {
      "name": "python3",
      "display_name": "Python 3"
    },
    "language_info": {
      "name": "python"
    }
  },
  "cells": [
    {
      "cell_type": "markdown",
      "metadata": {
        "id": "view-in-github",
        "colab_type": "text"
      },
      "source": [
        "<a href=\"https://colab.research.google.com/github/earo12/Retail-Price-Optimization/blob/main/Retail_Price_Optimization.ipynb\" target=\"_parent\"><img src=\"https://colab.research.google.com/assets/colab-badge.svg\" alt=\"Open In Colab\"/></a>"
      ]
    },
    {
      "cell_type": "code",
      "execution_count": 1,
      "metadata": {
        "id": "ZneSTvgQdz9y"
      },
      "outputs": [],
      "source": [
        "import numpy as np\n",
        "import pandas as pd\n",
        "import matplotlib.pyplot as plt\n",
        "import seaborn as sns\n",
        "import plotly.express as px"
      ]
    },
    {
      "cell_type": "code",
      "source": [
        "df = pd.read_csv('retail_price.csv')\n",
        "df.head()"
      ],
      "metadata": {
        "colab": {
          "base_uri": "https://localhost:8080/",
          "height": 300
        },
        "id": "5DQ1pGFueD30",
        "outputId": "0baedc3f-e4b5-4556-940a-6b3bd5f5056c"
      },
      "execution_count": 9,
      "outputs": [
        {
          "output_type": "execute_result",
          "data": {
            "text/plain": [
              "  product_id product_category_name  month_year  qty  total_price  \\\n",
              "0       bed1        bed_bath_table  01-05-2017    1        45.95   \n",
              "1       bed1        bed_bath_table  01-06-2017    3       137.85   \n",
              "2       bed1        bed_bath_table  01-07-2017    6       275.70   \n",
              "3       bed1        bed_bath_table  01-08-2017    4       183.80   \n",
              "4       bed1        bed_bath_table  01-09-2017    2        91.90   \n",
              "\n",
              "   freight_price  unit_price  product_name_lenght  product_description_lenght  \\\n",
              "0      15.100000       45.95                   39                         161   \n",
              "1      12.933333       45.95                   39                         161   \n",
              "2      14.840000       45.95                   39                         161   \n",
              "3      14.287500       45.95                   39                         161   \n",
              "4      15.100000       45.95                   39                         161   \n",
              "\n",
              "   product_photos_qty  ...  comp_1  ps1        fp1      comp_2  ps2  \\\n",
              "0                   2  ...    89.9  3.9  15.011897  215.000000  4.4   \n",
              "1                   2  ...    89.9  3.9  14.769216  209.000000  4.4   \n",
              "2                   2  ...    89.9  3.9  13.993833  205.000000  4.4   \n",
              "3                   2  ...    89.9  3.9  14.656757  199.509804  4.4   \n",
              "4                   2  ...    89.9  3.9  18.776522  163.398710  4.4   \n",
              "\n",
              "         fp2  comp_3  ps3        fp3  lag_price  \n",
              "0   8.760000   45.95  4.0  15.100000      45.90  \n",
              "1  21.322000   45.95  4.0  12.933333      45.95  \n",
              "2  22.195932   45.95  4.0  14.840000      45.95  \n",
              "3  19.412885   45.95  4.0  14.287500      45.95  \n",
              "4  24.324687   45.95  4.0  15.100000      45.95  \n",
              "\n",
              "[5 rows x 30 columns]"
            ],
            "text/html": [
              "\n",
              "  <div id=\"df-5fdb5a14-8cb7-4796-9c3a-86ccc9d514cd\">\n",
              "    <div class=\"colab-df-container\">\n",
              "      <div>\n",
              "<style scoped>\n",
              "    .dataframe tbody tr th:only-of-type {\n",
              "        vertical-align: middle;\n",
              "    }\n",
              "\n",
              "    .dataframe tbody tr th {\n",
              "        vertical-align: top;\n",
              "    }\n",
              "\n",
              "    .dataframe thead th {\n",
              "        text-align: right;\n",
              "    }\n",
              "</style>\n",
              "<table border=\"1\" class=\"dataframe\">\n",
              "  <thead>\n",
              "    <tr style=\"text-align: right;\">\n",
              "      <th></th>\n",
              "      <th>product_id</th>\n",
              "      <th>product_category_name</th>\n",
              "      <th>month_year</th>\n",
              "      <th>qty</th>\n",
              "      <th>total_price</th>\n",
              "      <th>freight_price</th>\n",
              "      <th>unit_price</th>\n",
              "      <th>product_name_lenght</th>\n",
              "      <th>product_description_lenght</th>\n",
              "      <th>product_photos_qty</th>\n",
              "      <th>...</th>\n",
              "      <th>comp_1</th>\n",
              "      <th>ps1</th>\n",
              "      <th>fp1</th>\n",
              "      <th>comp_2</th>\n",
              "      <th>ps2</th>\n",
              "      <th>fp2</th>\n",
              "      <th>comp_3</th>\n",
              "      <th>ps3</th>\n",
              "      <th>fp3</th>\n",
              "      <th>lag_price</th>\n",
              "    </tr>\n",
              "  </thead>\n",
              "  <tbody>\n",
              "    <tr>\n",
              "      <th>0</th>\n",
              "      <td>bed1</td>\n",
              "      <td>bed_bath_table</td>\n",
              "      <td>01-05-2017</td>\n",
              "      <td>1</td>\n",
              "      <td>45.95</td>\n",
              "      <td>15.100000</td>\n",
              "      <td>45.95</td>\n",
              "      <td>39</td>\n",
              "      <td>161</td>\n",
              "      <td>2</td>\n",
              "      <td>...</td>\n",
              "      <td>89.9</td>\n",
              "      <td>3.9</td>\n",
              "      <td>15.011897</td>\n",
              "      <td>215.000000</td>\n",
              "      <td>4.4</td>\n",
              "      <td>8.760000</td>\n",
              "      <td>45.95</td>\n",
              "      <td>4.0</td>\n",
              "      <td>15.100000</td>\n",
              "      <td>45.90</td>\n",
              "    </tr>\n",
              "    <tr>\n",
              "      <th>1</th>\n",
              "      <td>bed1</td>\n",
              "      <td>bed_bath_table</td>\n",
              "      <td>01-06-2017</td>\n",
              "      <td>3</td>\n",
              "      <td>137.85</td>\n",
              "      <td>12.933333</td>\n",
              "      <td>45.95</td>\n",
              "      <td>39</td>\n",
              "      <td>161</td>\n",
              "      <td>2</td>\n",
              "      <td>...</td>\n",
              "      <td>89.9</td>\n",
              "      <td>3.9</td>\n",
              "      <td>14.769216</td>\n",
              "      <td>209.000000</td>\n",
              "      <td>4.4</td>\n",
              "      <td>21.322000</td>\n",
              "      <td>45.95</td>\n",
              "      <td>4.0</td>\n",
              "      <td>12.933333</td>\n",
              "      <td>45.95</td>\n",
              "    </tr>\n",
              "    <tr>\n",
              "      <th>2</th>\n",
              "      <td>bed1</td>\n",
              "      <td>bed_bath_table</td>\n",
              "      <td>01-07-2017</td>\n",
              "      <td>6</td>\n",
              "      <td>275.70</td>\n",
              "      <td>14.840000</td>\n",
              "      <td>45.95</td>\n",
              "      <td>39</td>\n",
              "      <td>161</td>\n",
              "      <td>2</td>\n",
              "      <td>...</td>\n",
              "      <td>89.9</td>\n",
              "      <td>3.9</td>\n",
              "      <td>13.993833</td>\n",
              "      <td>205.000000</td>\n",
              "      <td>4.4</td>\n",
              "      <td>22.195932</td>\n",
              "      <td>45.95</td>\n",
              "      <td>4.0</td>\n",
              "      <td>14.840000</td>\n",
              "      <td>45.95</td>\n",
              "    </tr>\n",
              "    <tr>\n",
              "      <th>3</th>\n",
              "      <td>bed1</td>\n",
              "      <td>bed_bath_table</td>\n",
              "      <td>01-08-2017</td>\n",
              "      <td>4</td>\n",
              "      <td>183.80</td>\n",
              "      <td>14.287500</td>\n",
              "      <td>45.95</td>\n",
              "      <td>39</td>\n",
              "      <td>161</td>\n",
              "      <td>2</td>\n",
              "      <td>...</td>\n",
              "      <td>89.9</td>\n",
              "      <td>3.9</td>\n",
              "      <td>14.656757</td>\n",
              "      <td>199.509804</td>\n",
              "      <td>4.4</td>\n",
              "      <td>19.412885</td>\n",
              "      <td>45.95</td>\n",
              "      <td>4.0</td>\n",
              "      <td>14.287500</td>\n",
              "      <td>45.95</td>\n",
              "    </tr>\n",
              "    <tr>\n",
              "      <th>4</th>\n",
              "      <td>bed1</td>\n",
              "      <td>bed_bath_table</td>\n",
              "      <td>01-09-2017</td>\n",
              "      <td>2</td>\n",
              "      <td>91.90</td>\n",
              "      <td>15.100000</td>\n",
              "      <td>45.95</td>\n",
              "      <td>39</td>\n",
              "      <td>161</td>\n",
              "      <td>2</td>\n",
              "      <td>...</td>\n",
              "      <td>89.9</td>\n",
              "      <td>3.9</td>\n",
              "      <td>18.776522</td>\n",
              "      <td>163.398710</td>\n",
              "      <td>4.4</td>\n",
              "      <td>24.324687</td>\n",
              "      <td>45.95</td>\n",
              "      <td>4.0</td>\n",
              "      <td>15.100000</td>\n",
              "      <td>45.95</td>\n",
              "    </tr>\n",
              "  </tbody>\n",
              "</table>\n",
              "<p>5 rows × 30 columns</p>\n",
              "</div>\n",
              "      <button class=\"colab-df-convert\" onclick=\"convertToInteractive('df-5fdb5a14-8cb7-4796-9c3a-86ccc9d514cd')\"\n",
              "              title=\"Convert this dataframe to an interactive table.\"\n",
              "              style=\"display:none;\">\n",
              "        \n",
              "  <svg xmlns=\"http://www.w3.org/2000/svg\" height=\"24px\"viewBox=\"0 0 24 24\"\n",
              "       width=\"24px\">\n",
              "    <path d=\"M0 0h24v24H0V0z\" fill=\"none\"/>\n",
              "    <path d=\"M18.56 5.44l.94 2.06.94-2.06 2.06-.94-2.06-.94-.94-2.06-.94 2.06-2.06.94zm-11 1L8.5 8.5l.94-2.06 2.06-.94-2.06-.94L8.5 2.5l-.94 2.06-2.06.94zm10 10l.94 2.06.94-2.06 2.06-.94-2.06-.94-.94-2.06-.94 2.06-2.06.94z\"/><path d=\"M17.41 7.96l-1.37-1.37c-.4-.4-.92-.59-1.43-.59-.52 0-1.04.2-1.43.59L10.3 9.45l-7.72 7.72c-.78.78-.78 2.05 0 2.83L4 21.41c.39.39.9.59 1.41.59.51 0 1.02-.2 1.41-.59l7.78-7.78 2.81-2.81c.8-.78.8-2.07 0-2.86zM5.41 20L4 18.59l7.72-7.72 1.47 1.35L5.41 20z\"/>\n",
              "  </svg>\n",
              "      </button>\n",
              "      \n",
              "  <style>\n",
              "    .colab-df-container {\n",
              "      display:flex;\n",
              "      flex-wrap:wrap;\n",
              "      gap: 12px;\n",
              "    }\n",
              "\n",
              "    .colab-df-convert {\n",
              "      background-color: #E8F0FE;\n",
              "      border: none;\n",
              "      border-radius: 50%;\n",
              "      cursor: pointer;\n",
              "      display: none;\n",
              "      fill: #1967D2;\n",
              "      height: 32px;\n",
              "      padding: 0 0 0 0;\n",
              "      width: 32px;\n",
              "    }\n",
              "\n",
              "    .colab-df-convert:hover {\n",
              "      background-color: #E2EBFA;\n",
              "      box-shadow: 0px 1px 2px rgba(60, 64, 67, 0.3), 0px 1px 3px 1px rgba(60, 64, 67, 0.15);\n",
              "      fill: #174EA6;\n",
              "    }\n",
              "\n",
              "    [theme=dark] .colab-df-convert {\n",
              "      background-color: #3B4455;\n",
              "      fill: #D2E3FC;\n",
              "    }\n",
              "\n",
              "    [theme=dark] .colab-df-convert:hover {\n",
              "      background-color: #434B5C;\n",
              "      box-shadow: 0px 1px 3px 1px rgba(0, 0, 0, 0.15);\n",
              "      filter: drop-shadow(0px 1px 2px rgba(0, 0, 0, 0.3));\n",
              "      fill: #FFFFFF;\n",
              "    }\n",
              "  </style>\n",
              "\n",
              "      <script>\n",
              "        const buttonEl =\n",
              "          document.querySelector('#df-5fdb5a14-8cb7-4796-9c3a-86ccc9d514cd button.colab-df-convert');\n",
              "        buttonEl.style.display =\n",
              "          google.colab.kernel.accessAllowed ? 'block' : 'none';\n",
              "\n",
              "        async function convertToInteractive(key) {\n",
              "          const element = document.querySelector('#df-5fdb5a14-8cb7-4796-9c3a-86ccc9d514cd');\n",
              "          const dataTable =\n",
              "            await google.colab.kernel.invokeFunction('convertToInteractive',\n",
              "                                                     [key], {});\n",
              "          if (!dataTable) return;\n",
              "\n",
              "          const docLinkHtml = 'Like what you see? Visit the ' +\n",
              "            '<a target=\"_blank\" href=https://colab.research.google.com/notebooks/data_table.ipynb>data table notebook</a>'\n",
              "            + ' to learn more about interactive tables.';\n",
              "          element.innerHTML = '';\n",
              "          dataTable['output_type'] = 'display_data';\n",
              "          await google.colab.output.renderOutput(dataTable, element);\n",
              "          const docLink = document.createElement('div');\n",
              "          docLink.innerHTML = docLinkHtml;\n",
              "          element.appendChild(docLink);\n",
              "        }\n",
              "      </script>\n",
              "    </div>\n",
              "  </div>\n",
              "  "
            ]
          },
          "metadata": {},
          "execution_count": 9
        }
      ]
    },
    {
      "cell_type": "markdown",
      "source": [
        "Let's check the information about the dataframe"
      ],
      "metadata": {
        "id": "VeQ7akMye5VG"
      }
    },
    {
      "cell_type": "code",
      "source": [
        "df.info()"
      ],
      "metadata": {
        "colab": {
          "base_uri": "https://localhost:8080/"
        },
        "id": "n5a8BRU5ejt5",
        "outputId": "265d0c97-ecd3-45de-9664-3ac5d7d7afb5"
      },
      "execution_count": 3,
      "outputs": [
        {
          "output_type": "stream",
          "name": "stdout",
          "text": [
            "<class 'pandas.core.frame.DataFrame'>\n",
            "RangeIndex: 676 entries, 0 to 675\n",
            "Data columns (total 30 columns):\n",
            " #   Column                      Non-Null Count  Dtype  \n",
            "---  ------                      --------------  -----  \n",
            " 0   product_id                  676 non-null    object \n",
            " 1   product_category_name       676 non-null    object \n",
            " 2   month_year                  676 non-null    object \n",
            " 3   qty                         676 non-null    int64  \n",
            " 4   total_price                 676 non-null    float64\n",
            " 5   freight_price               676 non-null    float64\n",
            " 6   unit_price                  676 non-null    float64\n",
            " 7   product_name_lenght         676 non-null    int64  \n",
            " 8   product_description_lenght  676 non-null    int64  \n",
            " 9   product_photos_qty          676 non-null    int64  \n",
            " 10  product_weight_g            676 non-null    int64  \n",
            " 11  product_score               676 non-null    float64\n",
            " 12  customers                   676 non-null    int64  \n",
            " 13  weekday                     676 non-null    int64  \n",
            " 14  weekend                     676 non-null    int64  \n",
            " 15  holiday                     676 non-null    int64  \n",
            " 16  month                       676 non-null    int64  \n",
            " 17  year                        676 non-null    int64  \n",
            " 18  s                           676 non-null    float64\n",
            " 19  volume                      676 non-null    int64  \n",
            " 20  comp_1                      676 non-null    float64\n",
            " 21  ps1                         676 non-null    float64\n",
            " 22  fp1                         676 non-null    float64\n",
            " 23  comp_2                      676 non-null    float64\n",
            " 24  ps2                         676 non-null    float64\n",
            " 25  fp2                         676 non-null    float64\n",
            " 26  comp_3                      676 non-null    float64\n",
            " 27  ps3                         676 non-null    float64\n",
            " 28  fp3                         676 non-null    float64\n",
            " 29  lag_price                   676 non-null    float64\n",
            "dtypes: float64(15), int64(12), object(3)\n",
            "memory usage: 158.6+ KB\n"
          ]
        }
      ]
    },
    {
      "cell_type": "markdown",
      "source": [
        "Let's check if this dataframe has null values:"
      ],
      "metadata": {
        "id": "pLIn1tXTT_13"
      }
    },
    {
      "cell_type": "code",
      "source": [
        "df.isnull().sum()"
      ],
      "metadata": {
        "id": "WvrhX_lFeSJD",
        "colab": {
          "base_uri": "https://localhost:8080/"
        },
        "outputId": "ffbc0ddb-afb0-434c-9863-4839eccd5ceb"
      },
      "execution_count": 4,
      "outputs": [
        {
          "output_type": "execute_result",
          "data": {
            "text/plain": [
              "product_id                    0\n",
              "product_category_name         0\n",
              "month_year                    0\n",
              "qty                           0\n",
              "total_price                   0\n",
              "freight_price                 0\n",
              "unit_price                    0\n",
              "product_name_lenght           0\n",
              "product_description_lenght    0\n",
              "product_photos_qty            0\n",
              "product_weight_g              0\n",
              "product_score                 0\n",
              "customers                     0\n",
              "weekday                       0\n",
              "weekend                       0\n",
              "holiday                       0\n",
              "month                         0\n",
              "year                          0\n",
              "s                             0\n",
              "volume                        0\n",
              "comp_1                        0\n",
              "ps1                           0\n",
              "fp1                           0\n",
              "comp_2                        0\n",
              "ps2                           0\n",
              "fp2                           0\n",
              "comp_3                        0\n",
              "ps3                           0\n",
              "fp3                           0\n",
              "lag_price                     0\n",
              "dtype: int64"
            ]
          },
          "metadata": {},
          "execution_count": 4
        }
      ]
    },
    {
      "cell_type": "markdown",
      "source": [
        "Since the column \"product_id\" doesn't have an important meaning during the development of the model, I won't use it anymore:"
      ],
      "metadata": {
        "id": "8tdN6cwfU_Lf"
      }
    },
    {
      "cell_type": "code",
      "source": [
        "df.drop('product_id',axis = 1 ,inplace = True)"
      ],
      "metadata": {
        "id": "N1gkKtHXU3CD"
      },
      "execution_count": 5,
      "outputs": []
    },
    {
      "cell_type": "code",
      "source": [
        "df.columns"
      ],
      "metadata": {
        "colab": {
          "base_uri": "https://localhost:8080/"
        },
        "id": "yAJe5c8OVPN_",
        "outputId": "f3e8f342-be6b-4a61-af8e-109b55dac3a2"
      },
      "execution_count": 6,
      "outputs": [
        {
          "output_type": "execute_result",
          "data": {
            "text/plain": [
              "Index(['product_category_name', 'month_year', 'qty', 'total_price',\n",
              "       'freight_price', 'unit_price', 'product_name_lenght',\n",
              "       'product_description_lenght', 'product_photos_qty', 'product_weight_g',\n",
              "       'product_score', 'customers', 'weekday', 'weekend', 'holiday', 'month',\n",
              "       'year', 's', 'volume', 'comp_1', 'ps1', 'fp1', 'comp_2', 'ps2', 'fp2',\n",
              "       'comp_3', 'ps3', 'fp3', 'lag_price'],\n",
              "      dtype='object')"
            ]
          },
          "metadata": {},
          "execution_count": 6
        }
      ]
    },
    {
      "cell_type": "markdown",
      "source": [
        "Before of all, I'll check which are the highest price and the lowest price products of the dataframe"
      ],
      "metadata": {
        "id": "gfdZ140JV0yB"
      }
    },
    {
      "cell_type": "code",
      "source": [
        "lowest = df.sort_values(by = 'total_price', ascending = False)\n",
        "highest = df.sort_values(by = 'total_price', ascending = True)\n",
        "print(f'Dataframe in descending order: {lowest}')\n",
        "print('#------------------------------------#')\n",
        "print(f'Dataframe in ascending order: {highest}')"
      ],
      "metadata": {
        "colab": {
          "base_uri": "https://localhost:8080/"
        },
        "id": "xznvsh1MVpHS",
        "outputId": "39998924-dcf0-416a-9adb-b23587667b13"
      },
      "execution_count": 7,
      "outputs": [
        {
          "output_type": "stream",
          "name": "stdout",
          "text": [
            "Dataframe in descending order:      product_category_name  month_year  qty  total_price  freight_price  \\\n",
            "673         bed_bath_table  01-07-2017   59      12095.0      22.195932   \n",
            "277          watches_gifts  01-05-2018  114      11820.2       0.095439   \n",
            "674         bed_bath_table  01-08-2017   52      10375.0      19.412885   \n",
            "175  computers_accessories  01-02-2018   69      10343.1      26.552899   \n",
            "549          health_beauty  01-08-2018   28       9240.0      20.505357   \n",
            "..                     ...         ...  ...          ...            ...   \n",
            "468        furniture_decor  01-08-2018    1         35.0      19.440000   \n",
            "336         consoles_games  01-02-2018    1         32.5      11.850000   \n",
            "623          health_beauty  01-10-2017    1         29.9      11.850000   \n",
            "281             cool_stuff  01-09-2017    1         29.5      11.730000   \n",
            "329         consoles_games  01-07-2017    1         19.9      11.850000   \n",
            "\n",
            "     unit_price  product_name_lenght  product_description_lenght  \\\n",
            "673  205.000000                   56                         162   \n",
            "277  103.792523                   33                         523   \n",
            "674  199.509804                   56                         162   \n",
            "175  149.900000                   48                         894   \n",
            "549  330.000000                   60                        2644   \n",
            "..          ...                  ...                         ...   \n",
            "468   35.000000                   41                         789   \n",
            "336   32.500000                   56                         237   \n",
            "623   29.900000                   55                         388   \n",
            "281   29.500000                   57                         787   \n",
            "329   19.900000                   56                         237   \n",
            "\n",
            "     product_photos_qty  product_weight_g  ...      comp_1  ps1        fp1  \\\n",
            "673                   5              9750  ...   89.900000  3.9  13.993833   \n",
            "277                   3               584  ...  103.792523  4.2   0.095439   \n",
            "674                   5              9750  ...   89.900000  3.9  14.656757   \n",
            "175                   1               533  ...  149.000000  4.2  41.163226   \n",
            "549                   6               400  ...   23.990000  4.3  16.770000   \n",
            "..                  ...               ...  ...         ...  ...        ...   \n",
            "468                   1               950  ...  103.233333  4.1  22.300000   \n",
            "336                   3               100  ...   32.500000  4.2  15.256000   \n",
            "623                   1               250  ...   23.990000  4.3  13.136667   \n",
            "281                   8              1867  ...   99.990000  4.2  15.933333   \n",
            "329                   3               100  ...   19.900000  4.2  13.473077   \n",
            "\n",
            "         comp_2  ps2        fp2      comp_3  ps3        fp3   lag_price  \n",
            "673  205.000000  4.4  22.195932   45.950000  4.0  14.840000  209.000000  \n",
            "277  105.000000  4.2  11.377297  132.531250  3.8  15.762187  105.648625  \n",
            "674  199.509804  4.4  19.412885   45.950000  4.0  14.287500  205.000000  \n",
            "175  149.900000  4.3  26.552899   78.712281  3.5  14.535915  150.354546  \n",
            "549   82.821429  4.1  12.418571   58.990000  3.9  12.083333  330.000000  \n",
            "..          ...  ...        ...         ...  ...        ...         ...  \n",
            "468   35.000000  3.7  15.628125   83.833333  4.4  23.776667   34.950000  \n",
            "336   32.500000  3.9  11.850000   32.500000  3.9  11.850000   27.033333  \n",
            "623   89.990000  4.1  16.562917   58.990000  3.9  19.065263   29.850000  \n",
            "281   29.500000  4.4  11.730000   29.500000  4.4  11.730000   29.450000  \n",
            "329   19.900000  3.9  11.850000   19.900000  3.9  11.850000   19.850000  \n",
            "\n",
            "[676 rows x 29 columns]\n",
            "#------------------------------------#\n",
            "Dataframe in ascending order:      product_category_name  month_year  qty  total_price  freight_price  \\\n",
            "329         consoles_games  01-07-2017    1         19.9      11.850000   \n",
            "281             cool_stuff  01-09-2017    1         29.5      11.730000   \n",
            "623          health_beauty  01-10-2017    1         29.9      11.850000   \n",
            "336         consoles_games  01-02-2018    1         32.5      11.850000   \n",
            "468        furniture_decor  01-08-2018    1         35.0      19.440000   \n",
            "..                     ...         ...  ...          ...            ...   \n",
            "549          health_beauty  01-08-2018   28       9240.0      20.505357   \n",
            "175  computers_accessories  01-02-2018   69      10343.1      26.552899   \n",
            "674         bed_bath_table  01-08-2017   52      10375.0      19.412885   \n",
            "277          watches_gifts  01-05-2018  114      11820.2       0.095439   \n",
            "673         bed_bath_table  01-07-2017   59      12095.0      22.195932   \n",
            "\n",
            "     unit_price  product_name_lenght  product_description_lenght  \\\n",
            "329   19.900000                   56                         237   \n",
            "281   29.500000                   57                         787   \n",
            "623   29.900000                   55                         388   \n",
            "336   32.500000                   56                         237   \n",
            "468   35.000000                   41                         789   \n",
            "..          ...                  ...                         ...   \n",
            "549  330.000000                   60                        2644   \n",
            "175  149.900000                   48                         894   \n",
            "674  199.509804                   56                         162   \n",
            "277  103.792523                   33                         523   \n",
            "673  205.000000                   56                         162   \n",
            "\n",
            "     product_photos_qty  product_weight_g  ...      comp_1  ps1        fp1  \\\n",
            "329                   3               100  ...   19.900000  4.2  13.473077   \n",
            "281                   8              1867  ...   99.990000  4.2  15.933333   \n",
            "623                   1               250  ...   23.990000  4.3  13.136667   \n",
            "336                   3               100  ...   32.500000  4.2  15.256000   \n",
            "468                   1               950  ...  103.233333  4.1  22.300000   \n",
            "..                  ...               ...  ...         ...  ...        ...   \n",
            "549                   6               400  ...   23.990000  4.3  16.770000   \n",
            "175                   1               533  ...  149.000000  4.2  41.163226   \n",
            "674                   5              9750  ...   89.900000  3.9  14.656757   \n",
            "277                   3               584  ...  103.792523  4.2   0.095439   \n",
            "673                   5              9750  ...   89.900000  3.9  13.993833   \n",
            "\n",
            "         comp_2  ps2        fp2      comp_3  ps3        fp3   lag_price  \n",
            "329   19.900000  3.9  11.850000   19.900000  3.9  11.850000   19.850000  \n",
            "281   29.500000  4.4  11.730000   29.500000  4.4  11.730000   29.450000  \n",
            "623   89.990000  4.1  16.562917   58.990000  3.9  19.065263   29.850000  \n",
            "336   32.500000  3.9  11.850000   32.500000  3.9  11.850000   27.033333  \n",
            "468   35.000000  3.7  15.628125   83.833333  4.4  23.776667   34.950000  \n",
            "..          ...  ...        ...         ...  ...        ...         ...  \n",
            "549   82.821429  4.1  12.418571   58.990000  3.9  12.083333  330.000000  \n",
            "175  149.900000  4.3  26.552899   78.712281  3.5  14.535915  150.354546  \n",
            "674  199.509804  4.4  19.412885   45.950000  4.0  14.287500  205.000000  \n",
            "277  105.000000  4.2  11.377297  132.531250  3.8  15.762187  105.648625  \n",
            "673  205.000000  4.4  22.195932   45.950000  4.0  14.840000  209.000000  \n",
            "\n",
            "[676 rows x 29 columns]\n"
          ]
        }
      ]
    },
    {
      "cell_type": "markdown",
      "source": [
        "Let's check our distributions by making histograms:"
      ],
      "metadata": {
        "id": "pQwk7-sacR_M"
      }
    },
    {
      "cell_type": "code",
      "source": [
        "# PLOTLY:\n",
        "fig = px.histogram(df, x = 'total_price', title = 'Distribution of Total Price')\n",
        "fig.show()"
      ],
      "metadata": {
        "colab": {
          "base_uri": "https://localhost:8080/",
          "height": 542
        },
        "id": "vA4SGoYPWOFT",
        "outputId": "847faf4b-9c97-484b-bce1-2431cbbf1785"
      },
      "execution_count": 13,
      "outputs": [
        {
          "output_type": "display_data",
          "data": {
            "text/html": [
              "<html>\n",
              "<head><meta charset=\"utf-8\" /></head>\n",
              "<body>\n",
              "    <div>            <script src=\"https://cdnjs.cloudflare.com/ajax/libs/mathjax/2.7.5/MathJax.js?config=TeX-AMS-MML_SVG\"></script><script type=\"text/javascript\">if (window.MathJax && window.MathJax.Hub && window.MathJax.Hub.Config) {window.MathJax.Hub.Config({SVG: {font: \"STIX-Web\"}});}</script>                <script type=\"text/javascript\">window.PlotlyConfig = {MathJaxConfig: 'local'};</script>\n",
              "        <script src=\"https://cdn.plot.ly/plotly-2.18.2.min.js\"></script>                <div id=\"34b85670-5f1b-4ebd-9099-bad8fc727ab8\" class=\"plotly-graph-div\" style=\"height:525px; width:100%;\"></div>            <script type=\"text/javascript\">                                    window.PLOTLYENV=window.PLOTLYENV || {};                                    if (document.getElementById(\"34b85670-5f1b-4ebd-9099-bad8fc727ab8\")) {                    Plotly.newPlot(                        \"34b85670-5f1b-4ebd-9099-bad8fc727ab8\",                        [{\"alignmentgroup\":\"True\",\"bingroup\":\"x\",\"hovertemplate\":\"total_price=%{x}<br>count=%{y}<extra></extra>\",\"legendgroup\":\"\",\"marker\":{\"color\":\"#636efa\",\"pattern\":{\"shape\":\"\"}},\"name\":\"\",\"offsetgroup\":\"\",\"orientation\":\"v\",\"showlegend\":false,\"x\":[45.95,137.85,275.7,183.8,91.9,137.85,445.85,239.94,759.81,719.82,679.83,519.87,759.81,199.95,319.92,313.92,419.4,247.9,1956.0,712.0,890.0,683.0,891.0,1386.0,1683.0,1089.0,398.0,202.0,101.0,101.0,258.7,477.6,179.1,603.2,686.0,392.0,162.5,195.0,245.4,108.6,72.4,36.2,59.9,59.9,239.6,359.4,299.5,658.9,1043.6,571.8,548.9,411.2,161.7,431.2,477.1,249.5,299.4,349.3,219.89,179.91,259.87,319.84,419.79,579.71,651.72,575.76,647.73,671.72,455.81,455.81,335.86,191.92,167.93,71.97,71.97,47.98,134.99,134.99,1763.88,4248.73,4842.71,2170.87,1415.92,1911.89,1019.94,110.99,221.98,998.91,1514.87,2759.77,5288.57,4058.67,3935.68,227.96,398.93,398.93,968.83,968.83,1139.8,1367.76,569.9,227.96,706.86,99.98,399.92,199.96,199.98,1799.82,1099.89,1399.86,799.92,599.94,899.91,199.98,299.97,599.94,899.91,489.76,338.77,539.94,539.94,809.91,1529.83,1619.82,1889.79,2159.76,2339.74,1709.81,1799.8,1529.83,1339.84,1119.86,1279.84,1039.87,799.9,579.75,778.7,1377.7,778.7,2156.4,3711.7,2468.6,1946.1,2411.2,1401.4,1509.2,1319.5,748.5,149.7,299.4,167.0,239.8,5453.96,3465.8,528.0,880.0,269.7,236.7,179.7,179.7,1138.1,1617.3,1018.3,1856.9,4712.19,1769.7,1447.1,1828.4,1886.5,700.7,1559.1,299.4,698.6,499.0,3307.8,10343.1,7644.9,5246.5,7794.8,4047.3,1948.7,749.5,185.97,805.87,974.85,2469.62,1741.74,1808.73,1875.72,239.6,59.9,838.6,2336.1,2216.3,2336.1,4769.7,2881.6,598.8,1970.1,1670.9,2479.4,2982.4,598.8,299.46,299.46,994.04,2809.65,965.91,1723.08,449.82,257.56,557.85,789.95,1016.95,849.5,1604.0,2391.6,3660.0,894.0,1188.0,2043.92,1115.7,1191.9,2598.9,139.9,694.9,414.0,254.97,339.96,254.97,3059.64,4249.5,1104.87,594.93,339.96,169.98,179.99,539.97,359.98,1079.94,2339.87,2759.85,2629.96,2148.0,2277.0,1969.0,537.0,1590.0,1112.0,973.0,179.7,419.3,239.6,1138.1,1257.9,1377.7,1138.1,4397.7,2232.6,1247.5,2247.6,1347.5,1078.0,888.3,399.2,449.1,349.3,652.0,1777.5,2088.7,2762.5,134.9,1995.0,596.0,769.45,3640.68,8961.49,11820.2,1071.0,1302.0,112.0,29.5,2242.0,910.0,140.0,140.0,130.0,65.0,142.5,142.5,285.0,944.4,1416.0,707.4,1296.8,470.8,943.8,2038.3,1668.5,593.5,1987.4,1039.92,1819.86,2339.82,2209.83,2079.84,1870.84,1199.9,1169.91,389.97,519.96,259.98,129.99,129.99,379.6,611.4,1099.0,219.8,395.6,395.6,593.4,98.9,2795.14,2537.19,1139.8,470.0,292.0,1199.48,79.9,19.9,218.9,179.1,248.0,563.5,416.5,271.2,32.5,229.2,205.2,2799.2,1399.6,699.8,349.9,1399.6,699.8,349.9,2449.3,2449.3,3499.0,3543.5,2449.3,4198.8,5248.5,5948.3,2449.3,3513.1,4004.0,4004.0,3276.0,479.8,479.8,459.8,2250.8,2680.0,3908.9,4355.0,457.9,2200.0,1737.4,99.9,299.7,1298.7,1298.7,1198.8,1298.7,1298.7,999.0,1099.5,754.5,1839.2,2190.6,1729.2,2395.2,6287.2,2207.7,4319.4,3459.0,2657.0,3383.0,64.99,324.95,584.91,584.91,1039.84,1234.79,888.85,1297.78,1474.75,1120.81,1415.76,530.91,353.94,825.86,589.9,648.89,235.96,353.94,117.98,176.97,792.0,2178.0,693.0,1082.0,1196.0,276.0,815.0,1235.36,1188.6,764.1,84.9,99.99,1099.89,759.92,219.98,239.98,240.0,417.0,1105.92,1889.79,1259.86,1479.98,1680.0,680.0,770.0,880.0,969.9,499.95,199.98,179.8,1977.8,3056.6,5214.2,4584.9,5394.0,3326.3,2067.7,1258.6,3596.0,1594.2,1477.3,1911.8,1477.3,510.27,2174.89,1837.7,781.3,518.0,38.4,230.4,307.2,1170.35,153.6,576.0,153.6,493.4,140.0,140.0,70.0,35.0,1404.0,1404.0,4752.0,3564.0,2214.0,2205.0,3885.0,2940.0,840.0,735.0,78.0,234.0,78.0,390.0,234.0,156.0,468.0,702.0,78.0,78.0,1248.0,390.0,3042.0,3120.0,2179.0,375.0,975.0,375.0,3300.0,3525.0,8538.0,3075.6,4543.5,5801.7,6430.8,179.8,179.8,309.7,299.5,119.8,299.5,898.5,1138.1,2036.6,778.7,495.5,49.9,49.9,203.6,107.8,107.8,199.6,249.5,149.7,149.7,38.4,307.2,460.8,960.0,1026.51,76.8,345.6,601.8,595.0,385.0,455.0,350.0,560.0,1950.0,3575.0,650.0,3900.0,1950.0,3250.0,7475.0,9125.0,6930.0,6270.0,5280.0,4290.0,9240.0,99.99,499.95,439.96,659.94,120.0,240.0,735.0,1619.93,2519.72,2429.73,1405.0,840.0,660.0,550.0,220.0,539.94,699.93,589.94,599.93,1399.86,1699.83,2199.78,1399.86,1099.89,1399.86,299.97,199.98,399.96,299.97,299.97,99.99,199.98,269.59,479.97,479.97,699.95,479.97,839.94,1019.93,1679.89,2629.83,2699.82,3449.77,6746.9,4619.0,5986.0,6764.0,2975.0,3086.76,1079.91,1199.9,678.0,339.0,3461.58,3111.36,3836.8,339.9,1735.0,1847.0,1684.0,5956.3,983.6,7651.27,2715.7,2247.72,584.77,1884.45,1656.87,2206.4,2482.2,269.8,665.0,398.91,29.9,179.4,179.4,448.5,478.4,328.9,657.8,657.8,209.3,538.2,388.7,1205.03,766.83,925.0,1973.83,2698.5,3291.4,929.96,3139.8,929.8,398.0,1092.0,4860.11,1351.2,4241.0,2073.3,310.0,1601.06,109.9,1318.8,2831.55,5581.8,2187.3,1042.9,876.9,789.0,545.3,155.8,1331.1,1421.67,550.8,872.1,734.4,383.2,335.3,95.8,191.6,95.8,215.0,2090.0,12095.0,10375.0,5222.36],\"xaxis\":\"x\",\"yaxis\":\"y\",\"type\":\"histogram\"}],                        {\"template\":{\"data\":{\"histogram2dcontour\":[{\"type\":\"histogram2dcontour\",\"colorbar\":{\"outlinewidth\":0,\"ticks\":\"\"},\"colorscale\":[[0.0,\"#0d0887\"],[0.1111111111111111,\"#46039f\"],[0.2222222222222222,\"#7201a8\"],[0.3333333333333333,\"#9c179e\"],[0.4444444444444444,\"#bd3786\"],[0.5555555555555556,\"#d8576b\"],[0.6666666666666666,\"#ed7953\"],[0.7777777777777778,\"#fb9f3a\"],[0.8888888888888888,\"#fdca26\"],[1.0,\"#f0f921\"]]}],\"choropleth\":[{\"type\":\"choropleth\",\"colorbar\":{\"outlinewidth\":0,\"ticks\":\"\"}}],\"histogram2d\":[{\"type\":\"histogram2d\",\"colorbar\":{\"outlinewidth\":0,\"ticks\":\"\"},\"colorscale\":[[0.0,\"#0d0887\"],[0.1111111111111111,\"#46039f\"],[0.2222222222222222,\"#7201a8\"],[0.3333333333333333,\"#9c179e\"],[0.4444444444444444,\"#bd3786\"],[0.5555555555555556,\"#d8576b\"],[0.6666666666666666,\"#ed7953\"],[0.7777777777777778,\"#fb9f3a\"],[0.8888888888888888,\"#fdca26\"],[1.0,\"#f0f921\"]]}],\"heatmap\":[{\"type\":\"heatmap\",\"colorbar\":{\"outlinewidth\":0,\"ticks\":\"\"},\"colorscale\":[[0.0,\"#0d0887\"],[0.1111111111111111,\"#46039f\"],[0.2222222222222222,\"#7201a8\"],[0.3333333333333333,\"#9c179e\"],[0.4444444444444444,\"#bd3786\"],[0.5555555555555556,\"#d8576b\"],[0.6666666666666666,\"#ed7953\"],[0.7777777777777778,\"#fb9f3a\"],[0.8888888888888888,\"#fdca26\"],[1.0,\"#f0f921\"]]}],\"heatmapgl\":[{\"type\":\"heatmapgl\",\"colorbar\":{\"outlinewidth\":0,\"ticks\":\"\"},\"colorscale\":[[0.0,\"#0d0887\"],[0.1111111111111111,\"#46039f\"],[0.2222222222222222,\"#7201a8\"],[0.3333333333333333,\"#9c179e\"],[0.4444444444444444,\"#bd3786\"],[0.5555555555555556,\"#d8576b\"],[0.6666666666666666,\"#ed7953\"],[0.7777777777777778,\"#fb9f3a\"],[0.8888888888888888,\"#fdca26\"],[1.0,\"#f0f921\"]]}],\"contourcarpet\":[{\"type\":\"contourcarpet\",\"colorbar\":{\"outlinewidth\":0,\"ticks\":\"\"}}],\"contour\":[{\"type\":\"contour\",\"colorbar\":{\"outlinewidth\":0,\"ticks\":\"\"},\"colorscale\":[[0.0,\"#0d0887\"],[0.1111111111111111,\"#46039f\"],[0.2222222222222222,\"#7201a8\"],[0.3333333333333333,\"#9c179e\"],[0.4444444444444444,\"#bd3786\"],[0.5555555555555556,\"#d8576b\"],[0.6666666666666666,\"#ed7953\"],[0.7777777777777778,\"#fb9f3a\"],[0.8888888888888888,\"#fdca26\"],[1.0,\"#f0f921\"]]}],\"surface\":[{\"type\":\"surface\",\"colorbar\":{\"outlinewidth\":0,\"ticks\":\"\"},\"colorscale\":[[0.0,\"#0d0887\"],[0.1111111111111111,\"#46039f\"],[0.2222222222222222,\"#7201a8\"],[0.3333333333333333,\"#9c179e\"],[0.4444444444444444,\"#bd3786\"],[0.5555555555555556,\"#d8576b\"],[0.6666666666666666,\"#ed7953\"],[0.7777777777777778,\"#fb9f3a\"],[0.8888888888888888,\"#fdca26\"],[1.0,\"#f0f921\"]]}],\"mesh3d\":[{\"type\":\"mesh3d\",\"colorbar\":{\"outlinewidth\":0,\"ticks\":\"\"}}],\"scatter\":[{\"fillpattern\":{\"fillmode\":\"overlay\",\"size\":10,\"solidity\":0.2},\"type\":\"scatter\"}],\"parcoords\":[{\"type\":\"parcoords\",\"line\":{\"colorbar\":{\"outlinewidth\":0,\"ticks\":\"\"}}}],\"scatterpolargl\":[{\"type\":\"scatterpolargl\",\"marker\":{\"colorbar\":{\"outlinewidth\":0,\"ticks\":\"\"}}}],\"bar\":[{\"error_x\":{\"color\":\"#2a3f5f\"},\"error_y\":{\"color\":\"#2a3f5f\"},\"marker\":{\"line\":{\"color\":\"#E5ECF6\",\"width\":0.5},\"pattern\":{\"fillmode\":\"overlay\",\"size\":10,\"solidity\":0.2}},\"type\":\"bar\"}],\"scattergeo\":[{\"type\":\"scattergeo\",\"marker\":{\"colorbar\":{\"outlinewidth\":0,\"ticks\":\"\"}}}],\"scatterpolar\":[{\"type\":\"scatterpolar\",\"marker\":{\"colorbar\":{\"outlinewidth\":0,\"ticks\":\"\"}}}],\"histogram\":[{\"marker\":{\"pattern\":{\"fillmode\":\"overlay\",\"size\":10,\"solidity\":0.2}},\"type\":\"histogram\"}],\"scattergl\":[{\"type\":\"scattergl\",\"marker\":{\"colorbar\":{\"outlinewidth\":0,\"ticks\":\"\"}}}],\"scatter3d\":[{\"type\":\"scatter3d\",\"line\":{\"colorbar\":{\"outlinewidth\":0,\"ticks\":\"\"}},\"marker\":{\"colorbar\":{\"outlinewidth\":0,\"ticks\":\"\"}}}],\"scattermapbox\":[{\"type\":\"scattermapbox\",\"marker\":{\"colorbar\":{\"outlinewidth\":0,\"ticks\":\"\"}}}],\"scatterternary\":[{\"type\":\"scatterternary\",\"marker\":{\"colorbar\":{\"outlinewidth\":0,\"ticks\":\"\"}}}],\"scattercarpet\":[{\"type\":\"scattercarpet\",\"marker\":{\"colorbar\":{\"outlinewidth\":0,\"ticks\":\"\"}}}],\"carpet\":[{\"aaxis\":{\"endlinecolor\":\"#2a3f5f\",\"gridcolor\":\"white\",\"linecolor\":\"white\",\"minorgridcolor\":\"white\",\"startlinecolor\":\"#2a3f5f\"},\"baxis\":{\"endlinecolor\":\"#2a3f5f\",\"gridcolor\":\"white\",\"linecolor\":\"white\",\"minorgridcolor\":\"white\",\"startlinecolor\":\"#2a3f5f\"},\"type\":\"carpet\"}],\"table\":[{\"cells\":{\"fill\":{\"color\":\"#EBF0F8\"},\"line\":{\"color\":\"white\"}},\"header\":{\"fill\":{\"color\":\"#C8D4E3\"},\"line\":{\"color\":\"white\"}},\"type\":\"table\"}],\"barpolar\":[{\"marker\":{\"line\":{\"color\":\"#E5ECF6\",\"width\":0.5},\"pattern\":{\"fillmode\":\"overlay\",\"size\":10,\"solidity\":0.2}},\"type\":\"barpolar\"}],\"pie\":[{\"automargin\":true,\"type\":\"pie\"}]},\"layout\":{\"autotypenumbers\":\"strict\",\"colorway\":[\"#636efa\",\"#EF553B\",\"#00cc96\",\"#ab63fa\",\"#FFA15A\",\"#19d3f3\",\"#FF6692\",\"#B6E880\",\"#FF97FF\",\"#FECB52\"],\"font\":{\"color\":\"#2a3f5f\"},\"hovermode\":\"closest\",\"hoverlabel\":{\"align\":\"left\"},\"paper_bgcolor\":\"white\",\"plot_bgcolor\":\"#E5ECF6\",\"polar\":{\"bgcolor\":\"#E5ECF6\",\"angularaxis\":{\"gridcolor\":\"white\",\"linecolor\":\"white\",\"ticks\":\"\"},\"radialaxis\":{\"gridcolor\":\"white\",\"linecolor\":\"white\",\"ticks\":\"\"}},\"ternary\":{\"bgcolor\":\"#E5ECF6\",\"aaxis\":{\"gridcolor\":\"white\",\"linecolor\":\"white\",\"ticks\":\"\"},\"baxis\":{\"gridcolor\":\"white\",\"linecolor\":\"white\",\"ticks\":\"\"},\"caxis\":{\"gridcolor\":\"white\",\"linecolor\":\"white\",\"ticks\":\"\"}},\"coloraxis\":{\"colorbar\":{\"outlinewidth\":0,\"ticks\":\"\"}},\"colorscale\":{\"sequential\":[[0.0,\"#0d0887\"],[0.1111111111111111,\"#46039f\"],[0.2222222222222222,\"#7201a8\"],[0.3333333333333333,\"#9c179e\"],[0.4444444444444444,\"#bd3786\"],[0.5555555555555556,\"#d8576b\"],[0.6666666666666666,\"#ed7953\"],[0.7777777777777778,\"#fb9f3a\"],[0.8888888888888888,\"#fdca26\"],[1.0,\"#f0f921\"]],\"sequentialminus\":[[0.0,\"#0d0887\"],[0.1111111111111111,\"#46039f\"],[0.2222222222222222,\"#7201a8\"],[0.3333333333333333,\"#9c179e\"],[0.4444444444444444,\"#bd3786\"],[0.5555555555555556,\"#d8576b\"],[0.6666666666666666,\"#ed7953\"],[0.7777777777777778,\"#fb9f3a\"],[0.8888888888888888,\"#fdca26\"],[1.0,\"#f0f921\"]],\"diverging\":[[0,\"#8e0152\"],[0.1,\"#c51b7d\"],[0.2,\"#de77ae\"],[0.3,\"#f1b6da\"],[0.4,\"#fde0ef\"],[0.5,\"#f7f7f7\"],[0.6,\"#e6f5d0\"],[0.7,\"#b8e186\"],[0.8,\"#7fbc41\"],[0.9,\"#4d9221\"],[1,\"#276419\"]]},\"xaxis\":{\"gridcolor\":\"white\",\"linecolor\":\"white\",\"ticks\":\"\",\"title\":{\"standoff\":15},\"zerolinecolor\":\"white\",\"automargin\":true,\"zerolinewidth\":2},\"yaxis\":{\"gridcolor\":\"white\",\"linecolor\":\"white\",\"ticks\":\"\",\"title\":{\"standoff\":15},\"zerolinecolor\":\"white\",\"automargin\":true,\"zerolinewidth\":2},\"scene\":{\"xaxis\":{\"backgroundcolor\":\"#E5ECF6\",\"gridcolor\":\"white\",\"linecolor\":\"white\",\"showbackground\":true,\"ticks\":\"\",\"zerolinecolor\":\"white\",\"gridwidth\":2},\"yaxis\":{\"backgroundcolor\":\"#E5ECF6\",\"gridcolor\":\"white\",\"linecolor\":\"white\",\"showbackground\":true,\"ticks\":\"\",\"zerolinecolor\":\"white\",\"gridwidth\":2},\"zaxis\":{\"backgroundcolor\":\"#E5ECF6\",\"gridcolor\":\"white\",\"linecolor\":\"white\",\"showbackground\":true,\"ticks\":\"\",\"zerolinecolor\":\"white\",\"gridwidth\":2}},\"shapedefaults\":{\"line\":{\"color\":\"#2a3f5f\"}},\"annotationdefaults\":{\"arrowcolor\":\"#2a3f5f\",\"arrowhead\":0,\"arrowwidth\":1},\"geo\":{\"bgcolor\":\"white\",\"landcolor\":\"#E5ECF6\",\"subunitcolor\":\"white\",\"showland\":true,\"showlakes\":true,\"lakecolor\":\"white\"},\"title\":{\"x\":0.05},\"mapbox\":{\"style\":\"light\"}}},\"xaxis\":{\"anchor\":\"y\",\"domain\":[0.0,1.0],\"title\":{\"text\":\"total_price\"}},\"yaxis\":{\"anchor\":\"x\",\"domain\":[0.0,1.0],\"title\":{\"text\":\"count\"}},\"legend\":{\"tracegroupgap\":0},\"title\":{\"text\":\"Distribution of Total Price\"},\"barmode\":\"relative\"},                        {\"responsive\": true}                    ).then(function(){\n",
              "                            \n",
              "var gd = document.getElementById('34b85670-5f1b-4ebd-9099-bad8fc727ab8');\n",
              "var x = new MutationObserver(function (mutations, observer) {{\n",
              "        var display = window.getComputedStyle(gd).display;\n",
              "        if (!display || display === 'none') {{\n",
              "            console.log([gd, 'removed!']);\n",
              "            Plotly.purge(gd);\n",
              "            observer.disconnect();\n",
              "        }}\n",
              "}});\n",
              "\n",
              "// Listen for the removal of the full notebook cells\n",
              "var notebookContainer = gd.closest('#notebook-container');\n",
              "if (notebookContainer) {{\n",
              "    x.observe(notebookContainer, {childList: true});\n",
              "}}\n",
              "\n",
              "// Listen for the clearing of the current output cell\n",
              "var outputEl = gd.closest('.output');\n",
              "if (outputEl) {{\n",
              "    x.observe(outputEl, {childList: true});\n",
              "}}\n",
              "\n",
              "                        })                };                            </script>        </div>\n",
              "</body>\n",
              "</html>"
            ]
          },
          "metadata": {}
        }
      ]
    },
    {
      "cell_type": "code",
      "source": [
        "# SEABORN:\n",
        "sns.histplot(df, x='total_price', bins = 20)\n",
        "plt.title('Distribution of total price')\n",
        "plt.show()"
      ],
      "metadata": {
        "colab": {
          "base_uri": "https://localhost:8080/",
          "height": 489
        },
        "id": "wGYzBqsocpSf",
        "outputId": "3917264b-ccb5-4fed-d7db-80d9f5894ce8"
      },
      "execution_count": 15,
      "outputs": [
        {
          "output_type": "execute_result",
          "data": {
            "text/plain": [
              "Text(0.5, 1.0, 'Distribution of total price')"
            ]
          },
          "metadata": {},
          "execution_count": 15
        },
        {
          "output_type": "display_data",
          "data": {
            "text/plain": [
              "<Figure size 640x480 with 1 Axes>"
            ],
            "image/png": "[encoded data removed]"
          },
          "metadata": {}
        }
      ]
    },
    {
      "cell_type": "code",
      "source": [
        "# PLOTLY\n",
        "fig = px.box(df, y = 'unit_price', title = 'Distribution of unit price')\n",
        "fig.show()"
      ],
      "metadata": {
        "colab": {
          "base_uri": "https://localhost:8080/",
          "height": 542
        },
        "id": "ZqgUfX-7cvQR",
        "outputId": "ab0d9d0f-f6aa-4ade-afb6-9ec4534efd7a"
      },
      "execution_count": 17,
      "outputs": [
        {
          "output_type": "display_data",
          "data": {
            "text/html": [
              "<html>\n",
              "<head><meta charset=\"utf-8\" /></head>\n",
              "<body>\n",
              "    <div>            <script src=\"https://cdnjs.cloudflare.com/ajax/libs/mathjax/2.7.5/MathJax.js?config=TeX-AMS-MML_SVG\"></script><script type=\"text/javascript\">if (window.MathJax && window.MathJax.Hub && window.MathJax.Hub.Config) {window.MathJax.Hub.Config({SVG: {font: \"STIX-Web\"}});}</script>                <script type=\"text/javascript\">window.PlotlyConfig = {MathJaxConfig: 'local'};</script>\n",
              "        <script src=\"https://cdn.plot.ly/plotly-2.18.2.min.js\"></script>                <div id=\"ab3691be-b05a-4c87-bdf8-50bd96e7971d\" class=\"plotly-graph-div\" style=\"height:525px; width:100%;\"></div>            <script type=\"text/javascript\">                                    window.PLOTLYENV=window.PLOTLYENV || {};                                    if (document.getElementById(\"ab3691be-b05a-4c87-bdf8-50bd96e7971d\")) {                    Plotly.newPlot(                        \"ab3691be-b05a-4c87-bdf8-50bd96e7971d\",                        [{\"alignmentgroup\":\"True\",\"hovertemplate\":\"unit_price=%{y}<extra></extra>\",\"legendgroup\":\"\",\"marker\":{\"color\":\"#636efa\"},\"name\":\"\",\"notched\":false,\"offsetgroup\":\"\",\"orientation\":\"v\",\"showlegend\":false,\"x0\":\" \",\"xaxis\":\"x\",\"y\":[45.95,45.95,45.95,45.95,45.95,45.95,40.53181818,39.99,39.99,39.99,39.99,39.99,39.99,39.99,39.99,39.24,69.9,82.63333333,97.58823529,89.0,89.0,97.33333333,99.0,99.0,99.0,99.0,99.5,101.0,101.0,101.0,19.9,19.9,19.9,21.54285714,24.5,24.5,32.5,32.5,35.05714286,36.2,36.2,36.2,59.9,59.9,59.9,59.9,59.9,59.9,51.32222222,56.97777778,49.9,51.4,53.9,53.9,52.9,49.9,49.9,49.9,19.99,19.99,19.99,19.99,19.99,19.99,23.39740741,23.99,23.99,23.99,23.99,23.99,23.99,23.99,23.99,23.99,23.99,23.99,134.99,134.99,146.99,157.3603704,166.99,166.99,176.99,173.8081818,169.99,110.99,110.99,110.99,116.5284615,119.99,122.99,122.99,122.99,56.99,56.99,56.99,56.99,56.99,56.99,56.99,56.99,56.99,50.49,49.99,49.99,49.99,99.99,99.99,99.99,99.99,99.99,99.99,99.99,99.99,99.99,99.99,99.99,97.952,84.6925,89.99,89.99,89.99,89.99,89.99,89.99,89.99,89.99,89.99,89.99,89.99,83.74,79.99,79.99,79.99,79.99,82.82142857,59.9,59.9,59.9,59.9,53.78571429,55.75,49.9,50.35714286,53.9,53.9,53.05789474,49.9,49.9,49.9,167.0,119.9,93.09489362,77.155,88.0,88.0,89.9,78.9,59.9,59.9,59.9,59.9,59.9,59.9,53.64828125,55.425,49.9,50.9,53.9,53.9,53.70952381,49.9,49.9,49.9,150.3545455,149.9,149.9,149.9,149.9,149.9,149.9,149.9,61.99,61.99,64.99,64.99,66.99,66.99,66.99,59.9,59.9,59.9,59.9,59.9,59.9,52.40694444,55.1,49.9,50.54516129,53.9,53.9,53.41515152,49.9,49.91,49.91,47.35789474,48.45944444,53.70176471,52.06928571,49.98,51.512,50.71,157.99,171.792,169.9,160.4,149.475,140.56,149.0,148.5,145.9942857,123.9666667,119.19,118.1318182,139.9,138.98,138.0,84.99,84.99,84.99,84.99,84.99,84.99,84.99,84.99,84.99,179.99,179.99,179.99,179.99,179.99,183.99,187.8542857,179.0,175.1538462,179.0,179.0,159.0,139.0,139.0,59.9,59.9,59.9,59.9,59.9,59.9,59.9,53.37910448,55.77096774,49.9,51.025,53.9,53.9,52.56666667,49.9,49.9,49.9,163.0,161.5909091,160.6692308,148.7785714,134.9,133.0,149.0,128.2416667,117.4412903,105.648625,103.7925234,119.0,118.3636364,112.0,29.5,29.5,35.0,35.0,35.0,65.0,65.0,142.5,142.5,142.5,118.05,118.0,117.9,117.8888889,117.7,117.975,119.9,119.1785714,118.7,116.9066667,129.99,129.99,129.99,129.99,129.99,116.9275,119.99,129.99,129.99,129.99,129.99,129.99,129.99,94.9,100.9,109.9,109.9,98.9,98.9,98.9,98.9,90.534,84.75608696,87.5,94.0,73.0,66.34214286,79.9,19.9,19.9,19.9,20.66666667,24.5,24.5,27.03333333,32.5,32.74285714,34.2,349.9,349.9,349.9,349.9,349.9,349.9,349.9,349.9,349.9,349.9,322.1363636,349.9,349.9,349.9,349.9,349.9,352.25,364.0,364.0,364.0,239.9,239.9,229.9,204.6181818,167.5,150.3423077,145.1666667,152.6333333,157.1428571,157.9454545,99.9,99.9,99.9,99.9,99.9,99.9,99.9,99.9,78.53571429,83.83333333,229.9,219.06,216.15,203.2909091,224.5428571,220.77,205.6857143,216.1875,204.3846154,199.0,64.99,64.99,64.99,64.99,64.99,58.79952381,59.25666667,58.99,58.99,58.99,58.99,58.99,58.99,58.99,58.99,58.99,58.99,58.99,58.99,58.99,99.0,99.0,99.0,98.3,92.0,92.0,90.875,88.24,84.9,84.9,84.9,99.99,99.99,96.65666667,109.99,119.99,120.0,104.25,92.594,89.99,89.99,123.3316667,120.0,113.3333333,110.0,110.0,96.65666667,99.99,99.99,89.9,89.9,89.9,89.9,89.9,89.9,89.9,89.9,89.9,89.9,88.48823529,86.9,86.9,86.9,85.045,83.64961538,79.9,77.93333333,74.0,38.4,38.4,38.4,34.58117647,38.4,38.4,38.4,35.48571429,35.0,35.0,35.0,35.0,108.0,108.0,108.0,108.0,105.6428571,105.0,105.0,105.0,105.0,105.0,78.0,78.0,78.0,78.0,78.0,78.0,78.0,78.0,78.0,78.0,78.0,78.0,78.0,78.0,77.82142857,75.0,75.0,75.0,75.0,75.0,69.9953271,69.9,69.9,69.9,69.9,89.9,89.9,103.2333333,59.9,59.9,59.9,59.9,59.9,59.9,59.9,54.45,49.9,49.9,51.23333333,53.9,53.9,49.9,49.9,49.9,49.9,38.4,38.4,38.4,38.4,36.85428571,38.4,38.4,35.48571429,35.0,35.0,35.0,35.0,35.0,325.0,325.0,325.0,325.0,325.0,325.0,325.0,325.8928571,330.0,330.0,330.0,330.0,330.0,99.99,99.99,109.99,109.99,120.0,120.0,102.5,95.29,89.99,89.99,127.7272727,120.0,110.0,110.0,110.0,89.99,99.99,98.32333333,85.70428571,99.99,99.99,99.99,99.99,99.99,99.99,99.99,99.99,99.99,99.99,99.99,99.99,99.99,89.86333333,159.99,159.99,139.99,159.99,139.99,145.7042857,151.99,154.6958824,149.99,149.99,156.5113514,149.0,136.1428571,120.9230769,119.0,114.4911538,119.99,119.99,339.0,339.0,346.158,345.7066667,348.8,339.9,347.0,307.8333333,280.6666667,258.9695652,245.9,169.3493182,178.0571429,149.8525,146.6,144.96,138.59,137.9,137.9,134.9,133.0,132.97,29.9,29.9,29.9,29.9,29.9,29.9,29.9,29.9,29.9,29.9,29.9,241.006,255.61,185.0,197.383,179.9,164.57,232.49,174.4333333,185.96,199.0,182.0,151.8784375,150.1333333,132.53125,138.22,155.0,145.5509091,109.9,109.9,97.6425,78.7122807,81.02391304,80.66666667,79.8,78.9,77.9,77.9,45.9,44.15444444,45.9,45.9,45.9,47.9,47.9,47.9,47.9,47.9,215.0,209.0,205.0,199.5098039,163.3987097],\"y0\":\" \",\"yaxis\":\"y\",\"type\":\"box\"}],                        {\"template\":{\"data\":{\"histogram2dcontour\":[{\"type\":\"histogram2dcontour\",\"colorbar\":{\"outlinewidth\":0,\"ticks\":\"\"},\"colorscale\":[[0.0,\"#0d0887\"],[0.1111111111111111,\"#46039f\"],[0.2222222222222222,\"#7201a8\"],[0.3333333333333333,\"#9c179e\"],[0.4444444444444444,\"#bd3786\"],[0.5555555555555556,\"#d8576b\"],[0.6666666666666666,\"#ed7953\"],[0.7777777777777778,\"#fb9f3a\"],[0.8888888888888888,\"#fdca26\"],[1.0,\"#f0f921\"]]}],\"choropleth\":[{\"type\":\"choropleth\",\"colorbar\":{\"outlinewidth\":0,\"ticks\":\"\"}}],\"histogram2d\":[{\"type\":\"histogram2d\",\"colorbar\":{\"outlinewidth\":0,\"ticks\":\"\"},\"colorscale\":[[0.0,\"#0d0887\"],[0.1111111111111111,\"#46039f\"],[0.2222222222222222,\"#7201a8\"],[0.3333333333333333,\"#9c179e\"],[0.4444444444444444,\"#bd3786\"],[0.5555555555555556,\"#d8576b\"],[0.6666666666666666,\"#ed7953\"],[0.7777777777777778,\"#fb9f3a\"],[0.8888888888888888,\"#fdca26\"],[1.0,\"#f0f921\"]]}],\"heatmap\":[{\"type\":\"heatmap\",\"colorbar\":{\"outlinewidth\":0,\"ticks\":\"\"},\"colorscale\":[[0.0,\"#0d0887\"],[0.1111111111111111,\"#46039f\"],[0.2222222222222222,\"#7201a8\"],[0.3333333333333333,\"#9c179e\"],[0.4444444444444444,\"#bd3786\"],[0.5555555555555556,\"#d8576b\"],[0.6666666666666666,\"#ed7953\"],[0.7777777777777778,\"#fb9f3a\"],[0.8888888888888888,\"#fdca26\"],[1.0,\"#f0f921\"]]}],\"heatmapgl\":[{\"type\":\"heatmapgl\",\"colorbar\":{\"outlinewidth\":0,\"ticks\":\"\"},\"colorscale\":[[0.0,\"#0d0887\"],[0.1111111111111111,\"#46039f\"],[0.2222222222222222,\"#7201a8\"],[0.3333333333333333,\"#9c179e\"],[0.4444444444444444,\"#bd3786\"],[0.5555555555555556,\"#d8576b\"],[0.6666666666666666,\"#ed7953\"],[0.7777777777777778,\"#fb9f3a\"],[0.8888888888888888,\"#fdca26\"],[1.0,\"#f0f921\"]]}],\"contourcarpet\":[{\"type\":\"contourcarpet\",\"colorbar\":{\"outlinewidth\":0,\"ticks\":\"\"}}],\"contour\":[{\"type\":\"contour\",\"colorbar\":{\"outlinewidth\":0,\"ticks\":\"\"},\"colorscale\":[[0.0,\"#0d0887\"],[0.1111111111111111,\"#46039f\"],[0.2222222222222222,\"#7201a8\"],[0.3333333333333333,\"#9c179e\"],[0.4444444444444444,\"#bd3786\"],[0.5555555555555556,\"#d8576b\"],[0.6666666666666666,\"#ed7953\"],[0.7777777777777778,\"#fb9f3a\"],[0.8888888888888888,\"#fdca26\"],[1.0,\"#f0f921\"]]}],\"surface\":[{\"type\":\"surface\",\"colorbar\":{\"outlinewidth\":0,\"ticks\":\"\"},\"colorscale\":[[0.0,\"#0d0887\"],[0.1111111111111111,\"#46039f\"],[0.2222222222222222,\"#7201a8\"],[0.3333333333333333,\"#9c179e\"],[0.4444444444444444,\"#bd3786\"],[0.5555555555555556,\"#d8576b\"],[0.6666666666666666,\"#ed7953\"],[0.7777777777777778,\"#fb9f3a\"],[0.8888888888888888,\"#fdca26\"],[1.0,\"#f0f921\"]]}],\"mesh3d\":[{\"type\":\"mesh3d\",\"colorbar\":{\"outlinewidth\":0,\"ticks\":\"\"}}],\"scatter\":[{\"fillpattern\":{\"fillmode\":\"overlay\",\"size\":10,\"solidity\":0.2},\"type\":\"scatter\"}],\"parcoords\":[{\"type\":\"parcoords\",\"line\":{\"colorbar\":{\"outlinewidth\":0,\"ticks\":\"\"}}}],\"scatterpolargl\":[{\"type\":\"scatterpolargl\",\"marker\":{\"colorbar\":{\"outlinewidth\":0,\"ticks\":\"\"}}}],\"bar\":[{\"error_x\":{\"color\":\"#2a3f5f\"},\"error_y\":{\"color\":\"#2a3f5f\"},\"marker\":{\"line\":{\"color\":\"#E5ECF6\",\"width\":0.5},\"pattern\":{\"fillmode\":\"overlay\",\"size\":10,\"solidity\":0.2}},\"type\":\"bar\"}],\"scattergeo\":[{\"type\":\"scattergeo\",\"marker\":{\"colorbar\":{\"outlinewidth\":0,\"ticks\":\"\"}}}],\"scatterpolar\":[{\"type\":\"scatterpolar\",\"marker\":{\"colorbar\":{\"outlinewidth\":0,\"ticks\":\"\"}}}],\"histogram\":[{\"marker\":{\"pattern\":{\"fillmode\":\"overlay\",\"size\":10,\"solidity\":0.2}},\"type\":\"histogram\"}],\"scattergl\":[{\"type\":\"scattergl\",\"marker\":{\"colorbar\":{\"outlinewidth\":0,\"ticks\":\"\"}}}],\"scatter3d\":[{\"type\":\"scatter3d\",\"line\":{\"colorbar\":{\"outlinewidth\":0,\"ticks\":\"\"}},\"marker\":{\"colorbar\":{\"outlinewidth\":0,\"ticks\":\"\"}}}],\"scattermapbox\":[{\"type\":\"scattermapbox\",\"marker\":{\"colorbar\":{\"outlinewidth\":0,\"ticks\":\"\"}}}],\"scatterternary\":[{\"type\":\"scatterternary\",\"marker\":{\"colorbar\":{\"outlinewidth\":0,\"ticks\":\"\"}}}],\"scattercarpet\":[{\"type\":\"scattercarpet\",\"marker\":{\"colorbar\":{\"outlinewidth\":0,\"ticks\":\"\"}}}],\"carpet\":[{\"aaxis\":{\"endlinecolor\":\"#2a3f5f\",\"gridcolor\":\"white\",\"linecolor\":\"white\",\"minorgridcolor\":\"white\",\"startlinecolor\":\"#2a3f5f\"},\"baxis\":{\"endlinecolor\":\"#2a3f5f\",\"gridcolor\":\"white\",\"linecolor\":\"white\",\"minorgridcolor\":\"white\",\"startlinecolor\":\"#2a3f5f\"},\"type\":\"carpet\"}],\"table\":[{\"cells\":{\"fill\":{\"color\":\"#EBF0F8\"},\"line\":{\"color\":\"white\"}},\"header\":{\"fill\":{\"color\":\"#C8D4E3\"},\"line\":{\"color\":\"white\"}},\"type\":\"table\"}],\"barpolar\":[{\"marker\":{\"line\":{\"color\":\"#E5ECF6\",\"width\":0.5},\"pattern\":{\"fillmode\":\"overlay\",\"size\":10,\"solidity\":0.2}},\"type\":\"barpolar\"}],\"pie\":[{\"automargin\":true,\"type\":\"pie\"}]},\"layout\":{\"autotypenumbers\":\"strict\",\"colorway\":[\"#636efa\",\"#EF553B\",\"#00cc96\",\"#ab63fa\",\"#FFA15A\",\"#19d3f3\",\"#FF6692\",\"#B6E880\",\"#FF97FF\",\"#FECB52\"],\"font\":{\"color\":\"#2a3f5f\"},\"hovermode\":\"closest\",\"hoverlabel\":{\"align\":\"left\"},\"paper_bgcolor\":\"white\",\"plot_bgcolor\":\"#E5ECF6\",\"polar\":{\"bgcolor\":\"#E5ECF6\",\"angularaxis\":{\"gridcolor\":\"white\",\"linecolor\":\"white\",\"ticks\":\"\"},\"radialaxis\":{\"gridcolor\":\"white\",\"linecolor\":\"white\",\"ticks\":\"\"}},\"ternary\":{\"bgcolor\":\"#E5ECF6\",\"aaxis\":{\"gridcolor\":\"white\",\"linecolor\":\"white\",\"ticks\":\"\"},\"baxis\":{\"gridcolor\":\"white\",\"linecolor\":\"white\",\"ticks\":\"\"},\"caxis\":{\"gridcolor\":\"white\",\"linecolor\":\"white\",\"ticks\":\"\"}},\"coloraxis\":{\"colorbar\":{\"outlinewidth\":0,\"ticks\":\"\"}},\"colorscale\":{\"sequential\":[[0.0,\"#0d0887\"],[0.1111111111111111,\"#46039f\"],[0.2222222222222222,\"#7201a8\"],[0.3333333333333333,\"#9c179e\"],[0.4444444444444444,\"#bd3786\"],[0.5555555555555556,\"#d8576b\"],[0.6666666666666666,\"#ed7953\"],[0.7777777777777778,\"#fb9f3a\"],[0.8888888888888888,\"#fdca26\"],[1.0,\"#f0f921\"]],\"sequentialminus\":[[0.0,\"#0d0887\"],[0.1111111111111111,\"#46039f\"],[0.2222222222222222,\"#7201a8\"],[0.3333333333333333,\"#9c179e\"],[0.4444444444444444,\"#bd3786\"],[0.5555555555555556,\"#d8576b\"],[0.6666666666666666,\"#ed7953\"],[0.7777777777777778,\"#fb9f3a\"],[0.8888888888888888,\"#fdca26\"],[1.0,\"#f0f921\"]],\"diverging\":[[0,\"#8e0152\"],[0.1,\"#c51b7d\"],[0.2,\"#de77ae\"],[0.3,\"#f1b6da\"],[0.4,\"#fde0ef\"],[0.5,\"#f7f7f7\"],[0.6,\"#e6f5d0\"],[0.7,\"#b8e186\"],[0.8,\"#7fbc41\"],[0.9,\"#4d9221\"],[1,\"#276419\"]]},\"xaxis\":{\"gridcolor\":\"white\",\"linecolor\":\"white\",\"ticks\":\"\",\"title\":{\"standoff\":15},\"zerolinecolor\":\"white\",\"automargin\":true,\"zerolinewidth\":2},\"yaxis\":{\"gridcolor\":\"white\",\"linecolor\":\"white\",\"ticks\":\"\",\"title\":{\"standoff\":15},\"zerolinecolor\":\"white\",\"automargin\":true,\"zerolinewidth\":2},\"scene\":{\"xaxis\":{\"backgroundcolor\":\"#E5ECF6\",\"gridcolor\":\"white\",\"linecolor\":\"white\",\"showbackground\":true,\"ticks\":\"\",\"zerolinecolor\":\"white\",\"gridwidth\":2},\"yaxis\":{\"backgroundcolor\":\"#E5ECF6\",\"gridcolor\":\"white\",\"linecolor\":\"white\",\"showbackground\":true,\"ticks\":\"\",\"zerolinecolor\":\"white\",\"gridwidth\":2},\"zaxis\":{\"backgroundcolor\":\"#E5ECF6\",\"gridcolor\":\"white\",\"linecolor\":\"white\",\"showbackground\":true,\"ticks\":\"\",\"zerolinecolor\":\"white\",\"gridwidth\":2}},\"shapedefaults\":{\"line\":{\"color\":\"#2a3f5f\"}},\"annotationdefaults\":{\"arrowcolor\":\"#2a3f5f\",\"arrowhead\":0,\"arrowwidth\":1},\"geo\":{\"bgcolor\":\"white\",\"landcolor\":\"#E5ECF6\",\"subunitcolor\":\"white\",\"showland\":true,\"showlakes\":true,\"lakecolor\":\"white\"},\"title\":{\"x\":0.05},\"mapbox\":{\"style\":\"light\"}}},\"xaxis\":{\"anchor\":\"y\",\"domain\":[0.0,1.0]},\"yaxis\":{\"anchor\":\"x\",\"domain\":[0.0,1.0],\"title\":{\"text\":\"unit_price\"}},\"legend\":{\"tracegroupgap\":0},\"title\":{\"text\":\"Distribution of unit price\"},\"boxmode\":\"group\"},                        {\"responsive\": true}                    ).then(function(){\n",
              "                            \n",
              "var gd = document.getElementById('ab3691be-b05a-4c87-bdf8-50bd96e7971d');\n",
              "var x = new MutationObserver(function (mutations, observer) {{\n",
              "        var display = window.getComputedStyle(gd).display;\n",
              "        if (!display || display === 'none') {{\n",
              "            console.log([gd, 'removed!']);\n",
              "            Plotly.purge(gd);\n",
              "            observer.disconnect();\n",
              "        }}\n",
              "}});\n",
              "\n",
              "// Listen for the removal of the full notebook cells\n",
              "var notebookContainer = gd.closest('#notebook-container');\n",
              "if (notebookContainer) {{\n",
              "    x.observe(notebookContainer, {childList: true});\n",
              "}}\n",
              "\n",
              "// Listen for the clearing of the current output cell\n",
              "var outputEl = gd.closest('.output');\n",
              "if (outputEl) {{\n",
              "    x.observe(outputEl, {childList: true});\n",
              "}}\n",
              "\n",
              "                        })                };                            </script>        </div>\n",
              "</body>\n",
              "</html>"
            ]
          },
          "metadata": {}
        }
      ]
    },
    {
      "cell_type": "code",
      "source": [],
      "metadata": {
        "id": "rZ8TjEeTeOYr"
      },
      "execution_count": null,
      "outputs": []
    }
  ]
}